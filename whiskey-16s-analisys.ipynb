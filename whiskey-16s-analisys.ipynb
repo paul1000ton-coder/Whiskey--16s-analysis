{
 "cells": [
  {
   "cell_type": "markdown",
   "metadata": {},
   "source": [
    "# Analisis de 16s "
   ]
  },
  {
   "cell_type": "markdown",
   "metadata": {},
   "source": [
    "## Prefiltrado de los raw Data"
   ]
  },
  {
   "cell_type": "code",
   "execution_count": 10,
   "metadata": {},
   "outputs": [],
   "source": [
    "%%bash\n",
    "cd ../3_Days_5_Days_Bacteria_Raw_Fastq/\n",
    "\n",
    "#Este script nos sirve para reemplazar los espacios por un un guion en el nombre a todos los archivos que lo tengan. \n",
    "for file in *; do mv \"$file\" `echo $file | tr ' ' '_'`; done\n"
   ]
  },
  {
   "cell_type": "code",
   "execution_count": 11,
   "metadata": {},
   "outputs": [],
   "source": [
    "#Script nos sirve para cambiar el nombre de los archivos\n",
    "count=1\n",
    "for name in *; do mv $name barcode${count}; count=$((count+1)); done\n"
   ]
  },
  {
   "cell_type": "code",
   "execution_count": 15,
   "metadata": {},
   "outputs": [],
   "source": [
    "## Unimos los archivos de cada carpeta utilizando el comando \"cat\"\n",
    "\n",
    "#cat file1.fastq.gz file2.fastqz.gz > all-file.fastq.fz\n",
    "\n",
    "#Por cada carpeta se crearon 4 archivos y contienen todos los archivos fastq de cada carptea"
   ]
  },
  {
   "cell_type": "markdown",
   "metadata": {},
   "source": [
    "### ¿Cuántas secuencias tiene cada archivo?"
   ]
  },
  {
   "cell_type": "code",
   "execution_count": 2,
   "metadata": {},
   "outputs": [
    {
     "name": "stdout",
     "output_type": "stream",
     "text": [
      "8116\n",
      "5397\n",
      "4722\n",
      "5282\n"
     ]
    }
   ],
   "source": [
    "%%bash\n",
    "cd ../3_Days_5_Days_Bacteria_Raw_Fastq/all-barcode/\n",
    "awk '{s++}END{print s/4}' barcode1.fastq #8116\n",
    "awk '{s++}END{print s/4}' barcode2.fastq #5397\n",
    "awk '{s++}END{print s/4}' barcode3.fastq #4722\n",
    "awk '{s++}END{print s/4}' barcode4.fastq #5282\n"
   ]
  },
  {
   "cell_type": "markdown",
   "metadata": {},
   "source": [
    "## PORECHOP"
   ]
  },
  {
   "cell_type": "code",
   "execution_count": null,
   "metadata": {},
   "outputs": [],
   "source": [
    "%%bash\n",
    "\n",
    "#Utilizamos porechop para hacer el recorte de los barcodes\n",
    "\n",
    "porechop -i /media/betterlab/Datos01/abel/16s-koray/3_Days_5_Days_Bacteria_Raw_Fastq/all-barcode/ -b porechop/ --extra_end_trim 45\n"
   ]
  },
  {
   "cell_type": "markdown",
   "metadata": {},
   "source": [
    "### ¿Cuántas secuencias tiene cada archivo, despues de haber sido trimeadas por porechop?"
   ]
  },
  {
   "cell_type": "code",
   "execution_count": 3,
   "metadata": {},
   "outputs": [
    {
     "name": "stdout",
     "output_type": "stream",
     "text": [
      "BC01.fastq\n",
      "BC02.fastq\n",
      "BC03.fastq\n",
      "BC04.fastq\n",
      "none.fastq\n",
      "BC01.fastq\n",
      "7970\n",
      "BC02.fastq\n",
      "5244\n",
      "BC03.fastq\n",
      "4565\n",
      "BC04.fastq\n",
      "5087\n",
      "none.fastq\n",
      "120\n"
     ]
    }
   ],
   "source": [
    "%%bash \n",
    "\n",
    "cd ../3_Days_5_Days_Bacteria_Raw_Fastq/porechop/\n",
    "ls\n",
    "for file in *; do  echo $file; awk '{s++}END{print s/4}' $file; done \n"
   ]
  },
  {
   "cell_type": "markdown",
   "metadata": {},
   "source": [
    "## Filtrado de secuencias 1200-1800pb"
   ]
  },
  {
   "cell_type": "markdown",
   "metadata": {},
   "source": [
    "## verificar si estamos en la carpeta"
   ]
  },
  {
   "cell_type": "code",
   "execution_count": 5,
   "metadata": {},
   "outputs": [
    {
     "name": "stdout",
     "output_type": "stream",
     "text": [
      "2-length_filtz\n",
      "3-chimera_filt\n",
      "all-barcode\n",
      "barcode1\n",
      "barcode2\n",
      "barcode3\n",
      "barcode4\n",
      "porechop\n"
     ]
    }
   ],
   "source": [
    "%%bash\n",
    "cd ../3_Days_5_Days_Bacteria_Raw_Fastq/\n",
    "ls\n",
    "awk 'BEGIN {OFS = \"\\n\"} {header = $0 ; getline seq ; getline qheader ; getline qseq ; if (length(seq) >= 1200 && length(seq) <= 1800) {print header, seq, qheader, qseq}}' < porechop/BC01.fastq > 2-length_filtz/Z1_16S_filt.fastq\n",
    "awk 'BEGIN {OFS = \"\\n\"} {header = $0 ; getline seq ; getline qheader ; getline qseq ; if (length(seq) >= 1200 && length(seq) <= 1800) {print header, seq, qheader, qseq}}' < porechop/BC02.fastq > 2-length_filtz/Z2_16S_filt.fastq\n",
    "awk 'BEGIN {OFS = \"\\n\"} {header = $0 ; getline seq ; getline qheader ; getline qseq ; if (length(seq) >= 1200 && length(seq) <= 1800) {print header, seq, qheader, qseq}}' < porechop/BC03.fastq > 2-length_filtz/Z3_16S_filt.fastq\n",
    "awk 'BEGIN {OFS = \"\\n\"} {header = $0 ; getline seq ; getline qheader ; getline qseq ; if (length(seq) >= 1200 && length(seq) <= 1800) {print header, seq, qheader, qseq}}' < porechop/BC04.fastq > 2-length_filtz/Z4_16S_filt.fastq\n",
    "awk 'BEGIN {OFS = \"\\n\"} {header = $0 ; getline seq ; getline qheader ; getline qseq ; if (length(seq) >= 1200 && length(seq) <= 1800) {print header, seq, qheader, qseq}}' < porechop/none.fastq > 2-length_filtz/Z5_16S_filt.fastq\n"
   ]
  },
  {
   "cell_type": "markdown",
   "metadata": {},
   "source": [
    "## Utilizaremos awk para el filtrado de los reads"
   ]
  },
  {
   "cell_type": "code",
   "execution_count": 10,
   "metadata": {
    "scrolled": true
   },
   "outputs": [
    {
     "name": "stdout",
     "output_type": "stream",
     "text": [
      "7037\n",
      "4405\n",
      "4048\n",
      "4212\n"
     ]
    }
   ],
   "source": [
    "%%bash\n",
    "#ls 3_Days_5_Days_Bacteria_Raw_Fastq/2-length_filtz/\n",
    "cd ..\n",
    "awk '{s++}END{print s/4}' 3_Days_5_Days_Bacteria_Raw_Fastq/2-length_filtz/Z1_16S_filt.fastq\n",
    "awk '{s++}END{print s/4}' 3_Days_5_Days_Bacteria_Raw_Fastq/2-length_filtz/Z2_16S_filt.fastq\n",
    "awk '{s++}END{print s/4}' 3_Days_5_Days_Bacteria_Raw_Fastq/2-length_filtz/Z3_16S_filt.fastq\n",
    "awk '{s++}END{print s/4}' 3_Days_5_Days_Bacteria_Raw_Fastq/2-length_filtz/Z4_16S_filt.fastq"
   ]
  },
  {
   "cell_type": "markdown",
   "metadata": {},
   "source": [
    "## MINIMAP"
   ]
  },
  {
   "cell_type": "code",
   "execution_count": 15,
   "metadata": {
    "scrolled": true
   },
   "outputs": [
    {
     "name": "stderr",
     "output_type": "stream",
     "text": [
      "[M::mm_idx_gen::2.613*1.29] collected minimizers\n",
      "[M::mm_idx_gen::3.204*1.60] sorted minimizers\n",
      "[M::main::3.204*1.60] loaded/built the index for 7238 target sequence(s)\n",
      "[M::mm_mapopt_update::3.509*1.55] mid_occ = 26\n",
      "[M::mm_idx_stat] kmer size: 15; skip: 10; is_hpc: 0; #seq: 7238\n",
      "[M::mm_idx_stat::3.711*1.52] distinct minimizers: 18477244 (73.11% are singletons); average occurrences: 1.398; average spacing: 5.354\n",
      "[M::worker_pipeline::12.641*2.54] mapped 7037 sequences\n",
      "[M::main] Version: 2.15-r905\n",
      "[M::main] CMD: minimap2 -cx map-ont -z 70 Bd-16s/mock_db.fasta 3_Days_5_Days_Bacteria_Raw_Fastq/2-length_filtz/Z1_16S_filt.fastq\n",
      "[M::main] Real time: 12.669 sec; CPU: 32.140 sec; Peak RSS: 1.121 GB\n",
      "[M::mm_idx_gen::2.570*1.29] collected minimizers\n",
      "[M::mm_idx_gen::3.155*1.61] sorted minimizers\n",
      "[M::main::3.155*1.61] loaded/built the index for 7238 target sequence(s)\n",
      "[M::mm_mapopt_update::3.469*1.55] mid_occ = 26\n",
      "[M::mm_idx_stat] kmer size: 15; skip: 10; is_hpc: 0; #seq: 7238\n",
      "[M::mm_idx_stat::3.677*1.52] distinct minimizers: 18477244 (73.11% are singletons); average occurrences: 1.398; average spacing: 5.354\n",
      "[M::worker_pipeline::8.996*2.37] mapped 4405 sequences\n",
      "[M::main] Version: 2.15-r905\n",
      "[M::main] CMD: minimap2 -cx map-ont -z 70 Bd-16s/mock_db.fasta 3_Days_5_Days_Bacteria_Raw_Fastq/2-length_filtz/Z2_16S_filt.fastq\n",
      "[M::main] Real time: 9.023 sec; CPU: 21.361 sec; Peak RSS: 1.119 GB\n",
      "[M::mm_idx_gen::2.617*1.29] collected minimizers\n",
      "[M::mm_idx_gen::3.215*1.60] sorted minimizers\n",
      "[M::main::3.215*1.60] loaded/built the index for 7238 target sequence(s)\n",
      "[M::mm_mapopt_update::3.528*1.55] mid_occ = 26\n",
      "[M::mm_idx_stat] kmer size: 15; skip: 10; is_hpc: 0; #seq: 7238\n",
      "[M::mm_idx_stat::3.730*1.52] distinct minimizers: 18477244 (73.11% are singletons); average occurrences: 1.398; average spacing: 5.354\n",
      "[M::worker_pipeline::8.681*2.34] mapped 4048 sequences\n",
      "[M::main] Version: 2.15-r905\n",
      "[M::main] CMD: minimap2 -cx map-ont -z 70 Bd-16s/mock_db.fasta 3_Days_5_Days_Bacteria_Raw_Fastq/2-length_filtz/Z3_16S_filt.fastq\n",
      "[M::main] Real time: 8.708 sec; CPU: 20.347 sec; Peak RSS: 1.115 GB\n",
      "[M::mm_idx_gen::2.577*1.29] collected minimizers\n",
      "[M::mm_idx_gen::3.163*1.60] sorted minimizers\n",
      "[M::main::3.163*1.60] loaded/built the index for 7238 target sequence(s)\n",
      "[M::mm_mapopt_update::3.475*1.55] mid_occ = 26\n",
      "[M::mm_idx_stat] kmer size: 15; skip: 10; is_hpc: 0; #seq: 7238\n",
      "[M::mm_idx_stat::3.678*1.52] distinct minimizers: 18477244 (73.11% are singletons); average occurrences: 1.398; average spacing: 5.354\n",
      "[M::worker_pipeline::8.892*2.37] mapped 4212 sequences\n",
      "[M::main] Version: 2.15-r905\n",
      "[M::main] CMD: minimap2 -cx map-ont -z 70 Bd-16s/mock_db.fasta 3_Days_5_Days_Bacteria_Raw_Fastq/2-length_filtz/Z4_16S_filt.fastq\n",
      "[M::main] Real time: 8.913 sec; CPU: 21.056 sec; Peak RSS: 1.119 GB\n"
     ]
    }
   ],
   "source": [
    "%%bash\n",
    "cd ..\n",
    "\n",
    "minimap2 -cx map-ont Bd-16s/mock_db.fasta 3_Days_5_Days_Bacteria_Raw_Fastq/2-length_filtz/Z1_16S_filt.fastq -z 70 > 3_Days_5_Days_Bacteria_Raw_Fastq/3-chimera_filt/Z1_16S_filt_align.paf\n",
    "minimap2 -cx map-ont Bd-16s/mock_db.fasta 3_Days_5_Days_Bacteria_Raw_Fastq/2-length_filtz/Z2_16S_filt.fastq -z 70 > 3_Days_5_Days_Bacteria_Raw_Fastq/3-chimera_filt/Z2_16S_filt_align.paf\n",
    "minimap2 -cx map-ont Bd-16s/mock_db.fasta 3_Days_5_Days_Bacteria_Raw_Fastq/2-length_filtz/Z3_16S_filt.fastq -z 70 > 3_Days_5_Days_Bacteria_Raw_Fastq/3-chimera_filt/Z3_16S_filt_align.paf\n",
    "minimap2 -cx map-ont Bd-16s/mock_db.fasta 3_Days_5_Days_Bacteria_Raw_Fastq/2-length_filtz/Z4_16S_filt.fastq -z 70 > 3_Days_5_Days_Bacteria_Raw_Fastq/3-chimera_filt/Z4_16S_filt_align.paf"
   ]
  },
  {
   "cell_type": "markdown",
   "metadata": {},
   "source": [
    "## YACRD"
   ]
  },
  {
   "cell_type": "code",
   "execution_count": 18,
   "metadata": {},
   "outputs": [],
   "source": [
    "%%bash \n",
    "cd ..\n",
    "yacrd chimeric -i 3_Days_5_Days_Bacteria_Raw_Fastq/3-chimera_filt/Z1_16S_filt_align.paf -f 3_Days_5_Days_Bacteria_Raw_Fastq/2-length_filtz/Z1_16S_filt.fastq > 3_Days_5_Days_Bacteria_Raw_Fastq/3-chimera_filt/Z1_16S_filt.yacrd\n",
    "yacrd chimeric -i 3_Days_5_Days_Bacteria_Raw_Fastq/3-chimera_filt/Z2_16S_filt_align.paf -f 3_Days_5_Days_Bacteria_Raw_Fastq/2-length_filtz/Z2_16S_filt.fastq > 3_Days_5_Days_Bacteria_Raw_Fastq/3-chimera_filt/Z2_16S_filt.yacrd\n",
    "yacrd chimeric -i 3_Days_5_Days_Bacteria_Raw_Fastq/3-chimera_filt/Z3_16S_filt_align.paf -f 3_Days_5_Days_Bacteria_Raw_Fastq/2-length_filtz/Z3_16S_filt.fastq > 3_Days_5_Days_Bacteria_Raw_Fastq/3-chimera_filt/Z3_16S_filt.yacrd\n",
    "yacrd chimeric -i 3_Days_5_Days_Bacteria_Raw_Fastq/3-chimera_filt/Z4_16S_filt_align.paf -f 3_Days_5_Days_Bacteria_Raw_Fastq/2-length_filtz/Z4_16S_filt.fastq > 3_Days_5_Days_Bacteria_Raw_Fastq/3-chimera_filt/Z4_16S_filt.yacrd"
   ]
  },
  {
   "cell_type": "markdown",
   "metadata": {},
   "source": [
    "# Conteo"
   ]
  },
  {
   "cell_type": "code",
   "execution_count": 22,
   "metadata": {},
   "outputs": [
    {
     "name": "stdout",
     "output_type": "stream",
     "text": [
      "7006\n",
      "4399\n",
      "4042\n",
      "4206\n"
     ]
    }
   ],
   "source": [
    "%%bash\n",
    "cd ..\n",
    "\n",
    "cd 3_Days_5_Days_Bacteria_Raw_Fastq/2-length_filtz\n",
    "awk '{s++}END{print s/4}' Z1_16S_filt_filtered.fastq\n",
    "awk '{s++}END{print s/4}' Z2_16S_filt_filtered.fastq\n",
    "awk '{s++}END{print s/4}' Z3_16S_filt_filtered.fastq\n",
    "awk '{s++}END{print s/4}' Z4_16S_filt_filtered.fastq"
   ]
  },
  {
   "cell_type": "markdown",
   "metadata": {},
   "source": [
    "# MINIMAP2"
   ]
  },
  {
   "cell_type": "code",
   "execution_count": 24,
   "metadata": {
    "scrolled": true
   },
   "outputs": [
    {
     "name": "stdout",
     "output_type": "stream",
     "text": [
      "2-length_filtz\n",
      "3-chimera_filt\n",
      "all-barcode\n",
      "barcode1\n",
      "barcode2\n",
      "barcode3\n",
      "barcode4\n",
      "porechop\n"
     ]
    },
    {
     "name": "stderr",
     "output_type": "stream",
     "text": [
      "[M::mm_idx_gen::2.620*1.28] collected minimizers\n",
      "[M::mm_idx_gen::3.214*1.60] sorted minimizers\n",
      "[M::main::3.214*1.60] loaded/built the index for 7238 target sequence(s)\n",
      "[M::mm_mapopt_update::3.522*1.55] mid_occ = 26\n",
      "[M::mm_idx_stat] kmer size: 15; skip: 10; is_hpc: 0; #seq: 7238\n",
      "[M::mm_idx_stat::3.723*1.52] distinct minimizers: 18477244 (73.11% are singletons); average occurrences: 1.398; average spacing: 5.354\n",
      "[M::worker_pipeline::12.604*2.54] mapped 7006 sequences\n",
      "[M::main] Version: 2.15-r905\n",
      "[M::main] CMD: minimap2 -cx map-ont -z 70 ../Bd-16s/mock_db.fasta 2-length_filtz/Z1_16S_filt_filtered.fastq\n",
      "[M::main] Real time: 12.624 sec; CPU: 31.972 sec; Peak RSS: 1.118 GB\n",
      "[M::mm_idx_gen::2.570*1.29] collected minimizers\n",
      "[M::mm_idx_gen::3.164*1.60] sorted minimizers\n",
      "[M::main::3.164*1.60] loaded/built the index for 7238 target sequence(s)\n",
      "[M::mm_mapopt_update::3.470*1.55] mid_occ = 26\n",
      "[M::mm_idx_stat] kmer size: 15; skip: 10; is_hpc: 0; #seq: 7238\n",
      "[M::mm_idx_stat::3.672*1.52] distinct minimizers: 18477244 (73.11% are singletons); average occurrences: 1.398; average spacing: 5.354\n",
      "[M::worker_pipeline::8.975*2.37] mapped 4399 sequences\n",
      "[M::main] Version: 2.15-r905\n",
      "[M::main] CMD: minimap2 -cx map-ont -z 70 ../Bd-16s/mock_db.fasta 2-length_filtz/Z2_16S_filt_filtered.fastq\n",
      "[M::main] Real time: 8.995 sec; CPU: 21.300 sec; Peak RSS: 1.116 GB\n",
      "[M::mm_idx_gen::2.575*1.29] collected minimizers\n",
      "[M::mm_idx_gen::3.164*1.60] sorted minimizers\n",
      "[M::main::3.164*1.60] loaded/built the index for 7238 target sequence(s)\n",
      "[M::mm_mapopt_update::3.476*1.55] mid_occ = 26\n",
      "[M::mm_idx_stat] kmer size: 15; skip: 10; is_hpc: 0; #seq: 7238\n",
      "[M::mm_idx_stat::3.678*1.52] distinct minimizers: 18477244 (73.11% are singletons); average occurrences: 1.398; average spacing: 5.354\n",
      "[M::worker_pipeline::8.624*2.35] mapped 4042 sequences\n",
      "[M::main] Version: 2.15-r905\n",
      "[M::main] CMD: minimap2 -cx map-ont -z 70 ../Bd-16s/mock_db.fasta 2-length_filtz/Z3_16S_filt_filtered.fastq\n",
      "[M::main] Real time: 8.644 sec; CPU: 20.247 sec; Peak RSS: 1.121 GB\n",
      "[M::mm_idx_gen::2.584*1.29] collected minimizers\n",
      "[M::mm_idx_gen::3.183*1.60] sorted minimizers\n",
      "[M::main::3.183*1.60] loaded/built the index for 7238 target sequence(s)\n",
      "[M::mm_mapopt_update::3.499*1.55] mid_occ = 26\n",
      "[M::mm_idx_stat] kmer size: 15; skip: 10; is_hpc: 0; #seq: 7238\n",
      "[M::mm_idx_stat::3.701*1.52] distinct minimizers: 18477244 (73.11% are singletons); average occurrences: 1.398; average spacing: 5.354\n",
      "[M::worker_pipeline::9.075*2.37] mapped 4206 sequences\n",
      "[M::main] Version: 2.15-r905\n",
      "[M::main] CMD: minimap2 -cx map-ont -z 70 ../Bd-16s/mock_db.fasta 2-length_filtz/Z4_16S_filt_filtered.fastq\n",
      "[M::main] Real time: 9.103 sec; CPU: 21.573 sec; Peak RSS: 1.117 GB\n"
     ]
    }
   ],
   "source": [
    "%%bash\n",
    "cd ../3_Days_5_Days_Bacteria_Raw_Fastq\n",
    "ls\n",
    "minimap2 -cx map-ont ../Bd-16s/mock_db.fasta 2-length_filtz/Z1_16S_filt_filtered.fastq -z 70 > 3-chimera_filt/Z1_16S_align_mock.paf\n",
    "minimap2 -cx map-ont ../Bd-16s/mock_db.fasta 2-length_filtz/Z2_16S_filt_filtered.fastq -z 70 > 3-chimera_filt/Z2_16S_align_mock.paf\n",
    "minimap2 -cx map-ont ../Bd-16s/mock_db.fasta 2-length_filtz/Z3_16S_filt_filtered.fastq -z 70 > 3-chimera_filt/Z3_16S_align_mock.paf\n",
    "minimap2 -cx map-ont ../Bd-16s/mock_db.fasta 2-length_filtz/Z4_16S_filt_filtered.fastq -z 70 > 3-chimera_filt/Z4_16S_align_mock.paf"
   ]
  },
  {
   "cell_type": "markdown",
   "metadata": {},
   "source": [
    "# R"
   ]
  },
  {
   "cell_type": "code",
   "execution_count": 25,
   "metadata": {},
   "outputs": [
    {
     "ename": "NameError",
     "evalue": "name 'library' is not defined",
     "output_type": "error",
     "traceback": [
      "\u001b[0;31m---------------------------------------------------------------------------\u001b[0m",
      "\u001b[0;31mNameError\u001b[0m                                 Traceback (most recent call last)",
      "\u001b[0;32m<ipython-input-25-1f6d3e3d6cf7>\u001b[0m in \u001b[0;36m<module>\u001b[0;34m\u001b[0m\n\u001b[0;32m----> 1\u001b[0;31m \u001b[0mlibrary\u001b[0m\u001b[0;34m(\u001b[0m\u001b[0mreadr\u001b[0m\u001b[0;34m)\u001b[0m\u001b[0;34m\u001b[0m\u001b[0;34m\u001b[0m\u001b[0m\n\u001b[0m\u001b[1;32m      2\u001b[0m Z1_16S <- read_delim(\"./Z1_16S_BC04_filt_rrn_align.paf\",\n\u001b[1;32m      3\u001b[0m \u001b[0;34m\"\\t\"\u001b[0m\u001b[0;34m,\u001b[0m \u001b[0mescape_double\u001b[0m \u001b[0;34m=\u001b[0m \u001b[0mFALSE\u001b[0m\u001b[0;34m,\u001b[0m \u001b[0mcol_names\u001b[0m \u001b[0;34m=\u001b[0m \u001b[0mFALSE\u001b[0m\u001b[0;34m,\u001b[0m\u001b[0;34m\u001b[0m\u001b[0;34m\u001b[0m\u001b[0m\n\u001b[1;32m      4\u001b[0m trim_ws = TRUE)\n",
      "\u001b[0;31mNameError\u001b[0m: name 'library' is not defined"
     ]
    }
   ],
   "source": [
    "library(readr)\n",
    "Z1_16S <- read_delim(\"./Z1_16S_BC04_filt_rrn_align.paf\",\n",
    "\"\\t\", escape_double = FALSE, col_names = FALSE,\n",
    "trim_ws = TRUE)"
   ]
  }
 ],
 "metadata": {
  "kernelspec": {
   "display_name": "Python 3",
   "language": "python",
   "name": "python3"
  },
  "language_info": {
   "codemirror_mode": {
    "name": "ipython",
    "version": 3
   },
   "file_extension": ".py",
   "mimetype": "text/x-python",
   "name": "python",
   "nbconvert_exporter": "python",
   "pygments_lexer": "ipython3",
   "version": "3.8.5"
  }
 },
 "nbformat": 4,
 "nbformat_minor": 4
}

