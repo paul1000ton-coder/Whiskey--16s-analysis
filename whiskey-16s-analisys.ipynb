{
 "cells": [
  {
   "cell_type": "markdown",
   "metadata": {},
   "source": [
    "# Analisis de 16s "
   ]
  },
  {
   "cell_type": "markdown",
   "metadata": {},
   "source": [
    "## Prefiltrado de los raw Data"
   ]
  },
  {
   "cell_type": "code",
   "execution_count": 10,
   "metadata": {},
   "outputs": [],
   "source": [
    "%%bash\n",
    "cd ../3_Days_5_Days_Bacteria_Raw_Fastq/\n",
    "\n",
    "#Este script nos sirve para reemplazar los espacios por un un guion en el nombre a todos los archivos que lo tengan. \n",
    "for file in *; do mv \"$file\" `echo $file | tr ' ' '_'`; done\n"
   ]
  },
  {
   "cell_type": "code",
   "execution_count": 11,
   "metadata": {},
   "outputs": [],
   "source": [
    "#Script nos sirve para cambiar el nombre de los archivos\n",
    "count=1\n",
    "for name in *; do mv $name barcode${count}; count=$((count+1)); done\n"
   ]
  },
  {
   "cell_type": "code",
   "execution_count": 15,
   "metadata": {},
   "outputs": [],
   "source": [
    "## Unimos los archivos de cada carpeta utilizando el comando \"cat\"\n",
    "\n",
    "#cat file1.fastq.gz file2.fastqz.gz > all-file.fastq.fz\n",
    "\n",
    "#Por cada carpeta se crearon 4 archivos y contienen todos los archivos fastq de cada carptea"
   ]
  },
  {
   "cell_type": "markdown",
   "metadata": {},
   "source": [
    "### ¿Cuántas secuencias tiene cada archivo?"
   ]
  },
  {
   "cell_type": "code",
   "execution_count": 2,
   "metadata": {},
   "outputs": [
    {
     "name": "stdout",
     "output_type": "stream",
     "text": [
      "8116\n",
      "5397\n",
      "4722\n",
      "5282\n"
     ]
    }
   ],
   "source": [
    "%%bash\n",
    "cd ../3_Days_5_Days_Bacteria_Raw_Fastq/all-barcode/\n",
    "awk '{s++}END{print s/4}' barcode1.fastq #8116\n",
    "awk '{s++}END{print s/4}' barcode2.fastq #5397\n",
    "awk '{s++}END{print s/4}' barcode3.fastq #4722\n",
    "awk '{s++}END{print s/4}' barcode4.fastq #5282\n"
   ]
  },
  {
   "cell_type": "markdown",
   "metadata": {},
   "source": [
    "## PORECHOP"
   ]
  },
  {
   "cell_type": "code",
   "execution_count": null,
   "metadata": {},
   "outputs": [],
   "source": [
    "%%bash\n",
    "\n",
    "#Utilizamos porechop para hacer el recorte de los barcodes\n",
    "\n",
    "porechop -i /media/betterlab/Datos01/abel/16s-koray/3_Days_5_Days_Bacteria_Raw_Fastq/all-barcode/ -b porechop/ --extra_end_trim 45\n"
   ]
  },
  {
   "cell_type": "markdown",
   "metadata": {},
   "source": [
    "### ¿Cuántas secuencias tiene cada archivo, despues de haber sido trimeadas por porechop?"
   ]
  },
  {
   "cell_type": "code",
   "execution_count": 3,
   "metadata": {},
   "outputs": [
    {
     "name": "stdout",
     "output_type": "stream",
     "text": [
      "BC01.fastq\n",
      "BC02.fastq\n",
      "BC03.fastq\n",
      "BC04.fastq\n",
      "none.fastq\n",
      "BC01.fastq\n",
      "7970\n",
      "BC02.fastq\n",
      "5244\n",
      "BC03.fastq\n",
      "4565\n",
      "BC04.fastq\n",
      "5087\n",
      "none.fastq\n",
      "120\n"
     ]
    }
   ],
   "source": [
    "%%bash \n",
    "\n",
    "cd ../3_Days_5_Days_Bacteria_Raw_Fastq/porechop/\n",
    "ls\n",
    "for file in *; do  echo $file; awk '{s++}END{print s/4}' $file; done \n"
   ]
  },
  {
   "cell_type": "markdown",
   "metadata": {},
   "source": [
    "## Filtrado de secuencias 1200-1800pb"
   ]
  },
  {
   "cell_type": "markdown",
   "metadata": {},
   "source": [
    "## verificar si estamos en la carpeta"
   ]
  },
  {
   "cell_type": "code",
   "execution_count": 5,
   "metadata": {},
   "outputs": [
    {
     "name": "stdout",
     "output_type": "stream",
     "text": [
      "2-length_filtz\n",
      "3-chimera_filt\n",
      "all-barcode\n",
      "barcode1\n",
      "barcode2\n",
      "barcode3\n",
      "barcode4\n",
      "porechop\n"
     ]
    }
   ],
   "source": [
    "%%bash\n",
    "cd ../3_Days_5_Days_Bacteria_Raw_Fastq/\n",
    "ls\n",
    "awk 'BEGIN {OFS = \"\\n\"} {header = $0 ; getline seq ; getline qheader ; getline qseq ; if (length(seq) >= 1200 && length(seq) <= 1800) {print header, seq, qheader, qseq}}' < porechop/BC01.fastq > 2-length_filtz/Z1_16S_filt.fastq\n",
    "awk 'BEGIN {OFS = \"\\n\"} {header = $0 ; getline seq ; getline qheader ; getline qseq ; if (length(seq) >= 1200 && length(seq) <= 1800) {print header, seq, qheader, qseq}}' < porechop/BC02.fastq > 2-length_filtz/Z2_16S_filt.fastq\n",
    "awk 'BEGIN {OFS = \"\\n\"} {header = $0 ; getline seq ; getline qheader ; getline qseq ; if (length(seq) >= 1200 && length(seq) <= 1800) {print header, seq, qheader, qseq}}' < porechop/BC03.fastq > 2-length_filtz/Z3_16S_filt.fastq\n",
    "awk 'BEGIN {OFS = \"\\n\"} {header = $0 ; getline seq ; getline qheader ; getline qseq ; if (length(seq) >= 1200 && length(seq) <= 1800) {print header, seq, qheader, qseq}}' < porechop/BC04.fastq > 2-length_filtz/Z4_16S_filt.fastq\n",
    "awk 'BEGIN {OFS = \"\\n\"} {header = $0 ; getline seq ; getline qheader ; getline qseq ; if (length(seq) >= 1200 && length(seq) <= 1800) {print header, seq, qheader, qseq}}' < porechop/none.fastq > 2-length_filtz/Z5_16S_filt.fastq\n"
   ]
  },
  {
   "cell_type": "markdown",
   "metadata": {},
   "source": [
    "## Utilizaremos awk para el filtrado de los reads"
   ]
  },
  {
   "cell_type": "code",
   "execution_count": 10,
   "metadata": {
    "scrolled": true
   },
   "outputs": [
    {
     "name": "stdout",
     "output_type": "stream",
     "text": [
      "7037\n",
      "4405\n",
      "4048\n",
      "4212\n"
     ]
    }
   ],
   "source": [
    "%%bash\n",
    "#ls 3_Days_5_Days_Bacteria_Raw_Fastq/2-length_filtz/\n",
    "cd ..\n",
    "awk '{s++}END{print s/4}' 3_Days_5_Days_Bacteria_Raw_Fastq/2-length_filtz/Z1_16S_filt.fastq\n",
    "awk '{s++}END{print s/4}' 3_Days_5_Days_Bacteria_Raw_Fastq/2-length_filtz/Z2_16S_filt.fastq\n",
    "awk '{s++}END{print s/4}' 3_Days_5_Days_Bacteria_Raw_Fastq/2-length_filtz/Z3_16S_filt.fastq\n",
    "awk '{s++}END{print s/4}' 3_Days_5_Days_Bacteria_Raw_Fastq/2-length_filtz/Z4_16S_filt.fastq"
   ]
  },
  {
   "cell_type": "markdown",
   "metadata": {},
   "source": [
    "## MINIMAP"
   ]
  },
  {
   "cell_type": "code",
   "execution_count": 15,
   "metadata": {
    "scrolled": true
   },
   "outputs": [
    {
     "name": "stderr",
     "output_type": "stream",
     "text": [
      "[M::mm_idx_gen::2.613*1.29] collected minimizers\n",
      "[M::mm_idx_gen::3.204*1.60] sorted minimizers\n",
      "[M::main::3.204*1.60] loaded/built the index for 7238 target sequence(s)\n",
      "[M::mm_mapopt_update::3.509*1.55] mid_occ = 26\n",
      "[M::mm_idx_stat] kmer size: 15; skip: 10; is_hpc: 0; #seq: 7238\n",
      "[M::mm_idx_stat::3.711*1.52] distinct minimizers: 18477244 (73.11% are singletons); average occurrences: 1.398; average spacing: 5.354\n",
      "[M::worker_pipeline::12.641*2.54] mapped 7037 sequences\n",
      "[M::main] Version: 2.15-r905\n",
      "[M::main] CMD: minimap2 -cx map-ont -z 70 Bd-16s/mock_db.fasta 3_Days_5_Days_Bacteria_Raw_Fastq/2-length_filtz/Z1_16S_filt.fastq\n",
      "[M::main] Real time: 12.669 sec; CPU: 32.140 sec; Peak RSS: 1.121 GB\n",
      "[M::mm_idx_gen::2.570*1.29] collected minimizers\n",
      "[M::mm_idx_gen::3.155*1.61] sorted minimizers\n",
      "[M::main::3.155*1.61] loaded/built the index for 7238 target sequence(s)\n",
      "[M::mm_mapopt_update::3.469*1.55] mid_occ = 26\n",
      "[M::mm_idx_stat] kmer size: 15; skip: 10; is_hpc: 0; #seq: 7238\n",
      "[M::mm_idx_stat::3.677*1.52] distinct minimizers: 18477244 (73.11% are singletons); average occurrences: 1.398; average spacing: 5.354\n",
      "[M::worker_pipeline::8.996*2.37] mapped 4405 sequences\n",
      "[M::main] Version: 2.15-r905\n",
      "[M::main] CMD: minimap2 -cx map-ont -z 70 Bd-16s/mock_db.fasta 3_Days_5_Days_Bacteria_Raw_Fastq/2-length_filtz/Z2_16S_filt.fastq\n",
      "[M::main] Real time: 9.023 sec; CPU: 21.361 sec; Peak RSS: 1.119 GB\n",
      "[M::mm_idx_gen::2.617*1.29] collected minimizers\n",
      "[M::mm_idx_gen::3.215*1.60] sorted minimizers\n",
      "[M::main::3.215*1.60] loaded/built the index for 7238 target sequence(s)\n",
      "[M::mm_mapopt_update::3.528*1.55] mid_occ = 26\n",
      "[M::mm_idx_stat] kmer size: 15; skip: 10; is_hpc: 0; #seq: 7238\n",
      "[M::mm_idx_stat::3.730*1.52] distinct minimizers: 18477244 (73.11% are singletons); average occurrences: 1.398; average spacing: 5.354\n",
      "[M::worker_pipeline::8.681*2.34] mapped 4048 sequences\n",
      "[M::main] Version: 2.15-r905\n",
      "[M::main] CMD: minimap2 -cx map-ont -z 70 Bd-16s/mock_db.fasta 3_Days_5_Days_Bacteria_Raw_Fastq/2-length_filtz/Z3_16S_filt.fastq\n",
      "[M::main] Real time: 8.708 sec; CPU: 20.347 sec; Peak RSS: 1.115 GB\n",
      "[M::mm_idx_gen::2.577*1.29] collected minimizers\n",
      "[M::mm_idx_gen::3.163*1.60] sorted minimizers\n",
      "[M::main::3.163*1.60] loaded/built the index for 7238 target sequence(s)\n",
      "[M::mm_mapopt_update::3.475*1.55] mid_occ = 26\n",
      "[M::mm_idx_stat] kmer size: 15; skip: 10; is_hpc: 0; #seq: 7238\n",
      "[M::mm_idx_stat::3.678*1.52] distinct minimizers: 18477244 (73.11% are singletons); average occurrences: 1.398; average spacing: 5.354\n",
      "[M::worker_pipeline::8.892*2.37] mapped 4212 sequences\n",
      "[M::main] Version: 2.15-r905\n",
      "[M::main] CMD: minimap2 -cx map-ont -z 70 Bd-16s/mock_db.fasta 3_Days_5_Days_Bacteria_Raw_Fastq/2-length_filtz/Z4_16S_filt.fastq\n",
      "[M::main] Real time: 8.913 sec; CPU: 21.056 sec; Peak RSS: 1.119 GB\n"
     ]
    }
   ],
   "source": [
    "%%bash\n",
    "cd ..\n",
    "\n",
    "minimap2 -cx map-ont Bd-16s/mock_db.fasta 3_Days_5_Days_Bacteria_Raw_Fastq/2-length_filtz/Z1_16S_filt.fastq -z 70 > 3_Days_5_Days_Bacteria_Raw_Fastq/3-chimera_filt/Z1_16S_filt_align.paf\n",
    "minimap2 -cx map-ont Bd-16s/mock_db.fasta 3_Days_5_Days_Bacteria_Raw_Fastq/2-length_filtz/Z2_16S_filt.fastq -z 70 > 3_Days_5_Days_Bacteria_Raw_Fastq/3-chimera_filt/Z2_16S_filt_align.paf\n",
    "minimap2 -cx map-ont Bd-16s/mock_db.fasta 3_Days_5_Days_Bacteria_Raw_Fastq/2-length_filtz/Z3_16S_filt.fastq -z 70 > 3_Days_5_Days_Bacteria_Raw_Fastq/3-chimera_filt/Z3_16S_filt_align.paf\n",
    "minimap2 -cx map-ont Bd-16s/mock_db.fasta 3_Days_5_Days_Bacteria_Raw_Fastq/2-length_filtz/Z4_16S_filt.fastq -z 70 > 3_Days_5_Days_Bacteria_Raw_Fastq/3-chimera_filt/Z4_16S_filt_align.paf"
   ]
  },
  {
   "cell_type": "markdown",
   "metadata": {},
   "source": [
    "## YACRD"
   ]
  },
  {
   "cell_type": "code",
   "execution_count": 18,
   "metadata": {},
   "outputs": [],
   "source": [
    "%%bash \n",
    "cd ..\n",
    "yacrd chimeric -i 3_Days_5_Days_Bacteria_Raw_Fastq/3-chimera_filt/Z1_16S_filt_align.paf -f 3_Days_5_Days_Bacteria_Raw_Fastq/2-length_filtz/Z1_16S_filt.fastq > 3_Days_5_Days_Bacteria_Raw_Fastq/3-chimera_filt/Z1_16S_filt.yacrd\n",
    "yacrd chimeric -i 3_Days_5_Days_Bacteria_Raw_Fastq/3-chimera_filt/Z2_16S_filt_align.paf -f 3_Days_5_Days_Bacteria_Raw_Fastq/2-length_filtz/Z2_16S_filt.fastq > 3_Days_5_Days_Bacteria_Raw_Fastq/3-chimera_filt/Z2_16S_filt.yacrd\n",
    "yacrd chimeric -i 3_Days_5_Days_Bacteria_Raw_Fastq/3-chimera_filt/Z3_16S_filt_align.paf -f 3_Days_5_Days_Bacteria_Raw_Fastq/2-length_filtz/Z3_16S_filt.fastq > 3_Days_5_Days_Bacteria_Raw_Fastq/3-chimera_filt/Z3_16S_filt.yacrd\n",
    "yacrd chimeric -i 3_Days_5_Days_Bacteria_Raw_Fastq/3-chimera_filt/Z4_16S_filt_align.paf -f 3_Days_5_Days_Bacteria_Raw_Fastq/2-length_filtz/Z4_16S_filt.fastq > 3_Days_5_Days_Bacteria_Raw_Fastq/3-chimera_filt/Z4_16S_filt.yacrd"
   ]
  },
  {
   "cell_type": "markdown",
   "metadata": {},
   "source": [
    "# Conteo"
   ]
  },
  {
   "cell_type": "code",
   "execution_count": 22,
   "metadata": {},
   "outputs": [
    {
     "name": "stdout",
     "output_type": "stream",
     "text": [
      "7006\n",
      "4399\n",
      "4042\n",
      "4206\n"
     ]
    }
   ],
   "source": [
    "%%bash\n",
    "cd ..\n",
    "\n",
    "cd 3_Days_5_Days_Bacteria_Raw_Fastq/2-length_filtz\n",
    "awk '{s++}END{print s/4}' Z1_16S_filt_filtered.fastq\n",
    "awk '{s++}END{print s/4}' Z2_16S_filt_filtered.fastq\n",
    "awk '{s++}END{print s/4}' Z3_16S_filt_filtered.fastq\n",
    "awk '{s++}END{print s/4}' Z4_16S_filt_filtered.fastq"
   ]
  },
  {
   "cell_type": "markdown",
   "metadata": {},
   "source": [
    "# MINIMAP2"
   ]
  },
  {
   "cell_type": "code",
   "execution_count": 24,
   "metadata": {
    "scrolled": true
   },
   "outputs": [
    {
     "name": "stdout",
     "output_type": "stream",
     "text": [
      "2-length_filtz\n",
      "3-chimera_filt\n",
      "all-barcode\n",
      "barcode1\n",
      "barcode2\n",
      "barcode3\n",
      "barcode4\n",
      "porechop\n"
     ]
    },
    {
     "name": "stderr",
     "output_type": "stream",
     "text": [
      "[M::mm_idx_gen::2.620*1.28] collected minimizers\n",
      "[M::mm_idx_gen::3.214*1.60] sorted minimizers\n",
      "[M::main::3.214*1.60] loaded/built the index for 7238 target sequence(s)\n",
      "[M::mm_mapopt_update::3.522*1.55] mid_occ = 26\n",
      "[M::mm_idx_stat] kmer size: 15; skip: 10; is_hpc: 0; #seq: 7238\n",
      "[M::mm_idx_stat::3.723*1.52] distinct minimizers: 18477244 (73.11% are singletons); average occurrences: 1.398; average spacing: 5.354\n",
      "[M::worker_pipeline::12.604*2.54] mapped 7006 sequences\n",
      "[M::main] Version: 2.15-r905\n",
      "[M::main] CMD: minimap2 -cx map-ont -z 70 ../Bd-16s/mock_db.fasta 2-length_filtz/Z1_16S_filt_filtered.fastq\n",
      "[M::main] Real time: 12.624 sec; CPU: 31.972 sec; Peak RSS: 1.118 GB\n",
      "[M::mm_idx_gen::2.570*1.29] collected minimizers\n",
      "[M::mm_idx_gen::3.164*1.60] sorted minimizers\n",
      "[M::main::3.164*1.60] loaded/built the index for 7238 target sequence(s)\n",
      "[M::mm_mapopt_update::3.470*1.55] mid_occ = 26\n",
      "[M::mm_idx_stat] kmer size: 15; skip: 10; is_hpc: 0; #seq: 7238\n",
      "[M::mm_idx_stat::3.672*1.52] distinct minimizers: 18477244 (73.11% are singletons); average occurrences: 1.398; average spacing: 5.354\n",
      "[M::worker_pipeline::8.975*2.37] mapped 4399 sequences\n",
      "[M::main] Version: 2.15-r905\n",
      "[M::main] CMD: minimap2 -cx map-ont -z 70 ../Bd-16s/mock_db.fasta 2-length_filtz/Z2_16S_filt_filtered.fastq\n",
      "[M::main] Real time: 8.995 sec; CPU: 21.300 sec; Peak RSS: 1.116 GB\n",
      "[M::mm_idx_gen::2.575*1.29] collected minimizers\n",
      "[M::mm_idx_gen::3.164*1.60] sorted minimizers\n",
      "[M::main::3.164*1.60] loaded/built the index for 7238 target sequence(s)\n",
      "[M::mm_mapopt_update::3.476*1.55] mid_occ = 26\n",
      "[M::mm_idx_stat] kmer size: 15; skip: 10; is_hpc: 0; #seq: 7238\n",
      "[M::mm_idx_stat::3.678*1.52] distinct minimizers: 18477244 (73.11% are singletons); average occurrences: 1.398; average spacing: 5.354\n",
      "[M::worker_pipeline::8.624*2.35] mapped 4042 sequences\n",
      "[M::main] Version: 2.15-r905\n",
      "[M::main] CMD: minimap2 -cx map-ont -z 70 ../Bd-16s/mock_db.fasta 2-length_filtz/Z3_16S_filt_filtered.fastq\n",
      "[M::main] Real time: 8.644 sec; CPU: 20.247 sec; Peak RSS: 1.121 GB\n",
      "[M::mm_idx_gen::2.584*1.29] collected minimizers\n",
      "[M::mm_idx_gen::3.183*1.60] sorted minimizers\n",
      "[M::main::3.183*1.60] loaded/built the index for 7238 target sequence(s)\n",
      "[M::mm_mapopt_update::3.499*1.55] mid_occ = 26\n",
      "[M::mm_idx_stat] kmer size: 15; skip: 10; is_hpc: 0; #seq: 7238\n",
      "[M::mm_idx_stat::3.701*1.52] distinct minimizers: 18477244 (73.11% are singletons); average occurrences: 1.398; average spacing: 5.354\n",
      "[M::worker_pipeline::9.075*2.37] mapped 4206 sequences\n",
      "[M::main] Version: 2.15-r905\n",
      "[M::main] CMD: minimap2 -cx map-ont -z 70 ../Bd-16s/mock_db.fasta 2-length_filtz/Z4_16S_filt_filtered.fastq\n",
      "[M::main] Real time: 9.103 sec; CPU: 21.573 sec; Peak RSS: 1.117 GB\n"
     ]
    }
   ],
   "source": [
    "%%bash\n",
    "cd ../3_Days_5_Days_Bacteria_Raw_Fastq\n",
    "ls\n",
    "minimap2 -cx map-ont ../Bd-16s/mock_db.fasta 2-length_filtz/Z1_16S_filt_filtered.fastq -z 70 > 3-chimera_filt/Z1_16S_align_mock.paf\n",
    "minimap2 -cx map-ont ../Bd-16s/mock_db.fasta 2-length_filtz/Z2_16S_filt_filtered.fastq -z 70 > 3-chimera_filt/Z2_16S_align_mock.paf\n",
    "minimap2 -cx map-ont ../Bd-16s/mock_db.fasta 2-length_filtz/Z3_16S_filt_filtered.fastq -z 70 > 3-chimera_filt/Z3_16S_align_mock.paf\n",
    "minimap2 -cx map-ont ../Bd-16s/mock_db.fasta 2-length_filtz/Z4_16S_filt_filtered.fastq -z 70 > 3-chimera_filt/Z4_16S_align_mock.paf"
   ]
  },
  {
   "cell_type": "markdown",
   "metadata": {},
   "source": [
    "# R"
   ]
  },
  {
   "cell_type": "code",
   "execution_count": 25,
   "metadata": {},
   "outputs": [
    {
     "ename": "NameError",
     "evalue": "name 'library' is not defined",
     "output_type": "error",
     "traceback": [
      "\u001b[0;31m---------------------------------------------------------------------------\u001b[0m",
      "\u001b[0;31mNameError\u001b[0m                                 Traceback (most recent call last)",
      "\u001b[0;32m<ipython-input-25-1f6d3e3d6cf7>\u001b[0m in \u001b[0;36m<module>\u001b[0;34m\u001b[0m\n\u001b[0;32m----> 1\u001b[0;31m \u001b[0mlibrary\u001b[0m\u001b[0;34m(\u001b[0m\u001b[0mreadr\u001b[0m\u001b[0;34m)\u001b[0m\u001b[0;34m\u001b[0m\u001b[0;34m\u001b[0m\u001b[0m\n\u001b[0m\u001b[1;32m      2\u001b[0m Z1_16S <- read_delim(\"./Z1_16S_BC04_filt_rrn_align.paf\",\n\u001b[1;32m      3\u001b[0m \u001b[0;34m\"\\t\"\u001b[0m\u001b[0;34m,\u001b[0m \u001b[0mescape_double\u001b[0m \u001b[0;34m=\u001b[0m \u001b[0mFALSE\u001b[0m\u001b[0;34m,\u001b[0m \u001b[0mcol_names\u001b[0m \u001b[0;34m=\u001b[0m \u001b[0mFALSE\u001b[0m\u001b[0;34m,\u001b[0m\u001b[0;34m\u001b[0m\u001b[0;34m\u001b[0m\u001b[0m\n\u001b[1;32m      4\u001b[0m trim_ws = TRUE)\n",
      "\u001b[0;31mNameError\u001b[0m: name 'library' is not defined"
     ]
    }
   ],
   "source": [
#Use the PAF archives
Library(readr)
Z1_16S <- read_delim("Z1_16S_align_SILVA.paf", "\t", escape_double = FALSE, col_names = FALSE, trim_ws = TRUE)
Z2_16S <- read_delim("Z2_16S_align_SILVA.paf", "\t", escape_double = FALSE, col_names = FALSE, trim_ws = TRUE)
Z3_16S <- read_delim("Z3_16S_align_SILVA.paf", "\t", escape_double = FALSE, col_names = FALSE, trim_ws = TRUE)
Z4_16S <- read_delim("Z4_16S_align_SILVA.paf", "\t", escape_double = FALSE, col_names = FALSE, trim_ws = TRUE)

dfz1<-Z1_16S[,1:17]
dfz2<-Z2_16S[,1:17]
dfz3<-Z3_16S[,1:17]
dfz4<-Z4_16S[,1:17]
#-----------------------------------------------------
colnames(dfz1)<-c("Query","Q_length","Q_start","Q_end","Strand","op","T_length","T_start","T_end","N_res_matches","Align_block","MapQ","NM","ms","AS","nn","P_S")
colnames(dfz2)<-c("Query","Q_length","Q_start","Q_end","Strand","op","T_length","T_start","T_end","N_res_matches","Align_block","MapQ","NM","ms","AS","nn","P_S")
colnames(dfz3)<-c("Query","Q_length","Q_start","Q_end","Strand","op","T_length","T_start","T_end","N_res_matches","Align_block","MapQ","NM","ms","AS","nn","P_S")
colnames(dfz4)<-c("Query","Q_length","Q_start","Q_end","Strand","op","T_length","T_start","T_end","N_res_matches","Align_block","MapQ","NM","ms","AS","nn","P_S")
#-----------------------------------------------------
dfz1$AS <- as.numeric(gsub("AS:i:", "", dfz1$AS))
dfz2$AS <- as.numeric(gsub("AS:i:", "", dfz2$AS))
dfz3$AS <- as.numeric(gsub("AS:i:", "", dfz3$AS))
dfz4$AS <- as.numeric(gsub("AS:i:", "", dfz4$AS))
#-----------------------------------------------------
df_z12<-cbind.data.frame(dfz1$Query,dfz1$op,dfz1$N_res_matches,dfz1$Align_block,dfz1$AS,dfz1$MapQ)
df_z22<-cbind.data.frame(dfz2$Query,dfz2$op,dfz2$N_res_matches,dfz2$Align_block,dfz2$AS,dfz2$MapQ)
df_z32<-cbind.data.frame(dfz3$Query,dfz3$op,dfz3$N_res_matches,dfz3$Align_block,dfz3$AS,dfz3$MapQ)
df_z42<-cbind.data.frame(dfz4$Query,dfz4$op,dfz4$N_res_matches,dfz4$Align_block,dfz4$AS,dfz4$MapQ)
#-----------------------------------------------------
colnames(df_z12)<-c("Query","op","N_res_matches","Align_block","AS","MapQ")
colnames(df_z22)<-c("Query","op","N_res_matches","Align_block","AS","MapQ")
colnames(df_z32)<-c("Query","op","N_res_matches","Align_block","AS","MapQ")
colnames(df_z42)<-c("Query","op","N_res_matches","Align_block","AS","MapQ")
#-----------------------------------------------------
unique(df_z12$Query)
unique(df_z22$Query)
unique(df_z32$Query)
unique(df_z42$Query)
#-----------------------------------------------------
per.match<-(df_z12$N_res_matches/df_z12$Align_block)*100
df_2_modz1<-cbind.data.frame(df_z12,per.match)
per.match<-(df_z22$N_res_matches/df_z22$Align_block)*100
df_2_modz2<-cbind.data.frame(df_z22,per.match)
per.match<-(df_z32$N_res_matches/df_z32$Align_block)*100
df_2_modz3<-cbind.data.frame(df_z32,per.match)
per.match<-(df_z42$N_res_matches/df_z42$Align_block)*100
df_2_modz4<-cbind.data.frame(df_z42,per.match)
#-----------------------------------------------------
tax<-read.csv("silva_tax.txt",sep = "\t")
#buscarv_tax<-merge(df_2,Tax, by="op") ##revision
buscarv_taxz1<-merge(df_2_modz1,tax, by="op")
buscarv_taxz2<-merge(df_2_modz2,tax, by="op")
buscarv_taxz3<-merge(df_2_modz3,tax, by="op")
buscarv_taxz4<-merge(df_2_modz4,tax, by="op")
#-----------------------------------------------------
colnames(buscarv_taxz1)<-c("op","Query","N_res_matches","Align_block","AS","MapQ", "Matching","Tax")
colnames(buscarv_taxz2)<-c("op","Query","N_res_matches","Align_block","AS","MapQ", "Matching","Tax")
colnames(buscarv_taxz3)<-c("op","Query","N_res_matches","Align_block","AS","MapQ", "Matching","Tax")
colnames(buscarv_taxz4)<-c("op","Query","N_res_matches","Align_block","AS","MapQ", "Matching","Tax")
#-----------------------------------------------------
##For the 16S rRNA gene
df_3z1<-subset(buscarv_taxz1, Align_block > 999)
df_3z2<-subset(buscarv_taxz2, Align_block > 999)
df_3z3<-subset(buscarv_taxz3, Align_block > 999)
df_3z4<-subset(buscarv_taxz4, Align_block > 999)

library(doBy)
df_4z1<- summaryBy(AS ~ Query + Tax + Matching + MapQ, data=df_3z1, FUN=max)
df_4z2<- summaryBy(AS ~ Query + Tax + Matching + MapQ, data=df_3z2, FUN=max)
df_4z3<- summaryBy(AS ~ Query + Tax + Matching + MapQ, data=df_3z3, FUN=max)
df_4z4<- summaryBy(AS ~ Query + Tax + Matching + MapQ, data=df_3z4, FUN=max)
#-----------------------------------------------------
df_5z1<-df_4z1[!(duplicated(df_4z1$Query) | duplicated(df_4z1$Query, fromLast = TRUE)), ]  # unique tax records
df_5z2<-df_4z2[!(duplicated(df_4z2$Query) | duplicated(df_4z2$Query, fromLast = TRUE)), ]  # unique tax records
df_5z3<-df_4z3[!(duplicated(df_4z3$Query) | duplicated(df_4z3$Query, fromLast = TRUE)), ]  # unique tax records
df_5z4<-df_4z4[!(duplicated(df_4z4$Query) | duplicated(df_4z4$Query, fromLast = TRUE)), ]  # unique tax records
#-----------------------------------------------------
df_dupz1<-df_4z1[(duplicated(df_4z1$Query) | duplicated(df_4z1$Query, fromLast = TRUE)), ] # replicates
df_dupz2<-df_4z2[(duplicated(df_4z2$Query) | duplicated(df_4z2$Query, fromLast = TRUE)), ] # replicates
df_dupz3<-df_4z3[(duplicated(df_4z3$Query) | duplicated(df_4z3$Query, fromLast = TRUE)), ] # replicates
df_dupz4<-df_4z4[(duplicated(df_4z4$Query) | duplicated(df_4z4$Query, fromLast = TRUE)), ] # replicates
#-----------------------------------------------------
df_dup2z1<- df_dupz1[order(df_dupz1$Query, -abs(df_dupz1$AS) ), ] # sort by Query & AS value (highest to lowest)
df_dup2z2<- df_dupz2[order(df_dupz2$Query, -abs(df_dupz2$AS) ), ] # sort by Query & AS value (highest to lowest)
df_dup2z3<- df_dupz3[order(df_dupz3$Query, -abs(df_dupz3$AS) ), ] # sort by Query & AS value (highest to lowest)
df_dup2z4<- df_dupz4[order(df_dupz4$Query, -abs(df_dupz4$AS) ), ] # sort by Query & AS value (highest to lowest)
#-----------------------------------------------------
df_6z1<-df_dup2z1[ !duplicated(df_dup2z1$Query), ]    
df_6z2<-df_dup2z2[ !duplicated(df_dup2z2$Query), ] 
df_6z3<-df_dup2z3[ !duplicated(df_dup2z3$Query), ] 
df_6z4<-df_dup2z4[ !duplicated(df_dup2z4$Query), ] 
# take the first row within each Query
#-----------------------------------------------------
df_7z1 <-rbind.data.frame(df_5z1,df_6z1) 
write.csv(df_7z1, file = "Z1_16S_Qscores.csv")     # Quality scores file
df_7z2 <-rbind.data.frame(df_5z2,df_6z2) 
write.csv(df_7z2, file = "Z2_16S_Qscores.csv")     # Quality scores file
df_7z3 <-rbind.data.frame(df_5z3,df_6z3) 
write.csv(df_7z3, file = "Z3_16S_Qscores.csv")     # Quality scores file
df_7z4 <-rbind.data.frame(df_5z4,df_6z4) 
write.csv(df_7z4, file = "Z4_16S_Qscores.csv")     # Quality scores file

library(reshape2)
Tax_tablez1<-dcast(data=melt(df_7z1$Tax, id.vars="Tax"), value ~ .)
colnames(Tax_tablez1) <- c("Tax","Counts")
rel.abz1 <- Tax_tablez1$Counts/sum(Tax_tablez1$Counts)
readsz1<-sum(Tax_tablez1$Counts)
readsz1
Tax_tablez2<-dcast(data=melt(df_7z2$Tax, id.vars="Tax"), value ~ .)
colnames(Tax_tablez2) <- c("Tax","Counts")
rel.abz2 <- Tax_tablez2$Counts/sum(Tax_tablez2$Counts)
readsz2<-sum(Tax_tablez2$Counts)
readsz2
Tax_tablez3<-dcast(data=melt(df_7z3$Tax, id.vars="Tax"), value ~ .)
colnames(Tax_tablez3) <- c("Tax","Counts")
rel.abz3 <- Tax_tablez3$Counts/sum(Tax_tablez3$Counts)
readsz3<-sum(Tax_tablez3$Counts)
readsz3
Tax_tablez4<-dcast(data=melt(df_7z4$Tax, id.vars="Tax"), value ~ .)
colnames(Tax_tablez4) <- c("Tax","Counts")
rel.abz4 <- Tax_tablez4$Counts/sum(Tax_tablez4$Counts)
readsz4<-sum(Tax_tablez4$Counts)
readsz4
#-----------------------------------------------------
Tax_table_RAz1<-cbind(Tax_tablez1, rel.abz1,"Z1_16S")
colnames(Tax_table_RAz1) <- c("Tax","Counts","RA","SampleID")
write.csv(Tax_table_RAz1, file = "Z1_16S_Tax_summ.csv")      # Taxa summary file
Tax_table_RAz2<-cbind(Tax_tablez2, rel.abz2,"Z2_16S")
colnames(Tax_table_RAz2) <- c("Tax","Counts","RA","SampleID")
write.csv(Tax_table_RAz2, file = "Z2_16S_Tax_summ.csv")      # Taxa summary file
Tax_table_RAz3<-cbind(Tax_tablez3, rel.abz3,"Z3_16S")
colnames(Tax_table_RAz3) <- c("Tax","Counts","RA","SampleID")
write.csv(Tax_table_RAz3, file = "Z3_16S_Tax_summ.csv")      # Taxa summary file
Tax_table_RAz4<-cbind(Tax_tablez4, rel.abz4,"Z4_16S")
colnames(Tax_table_RAz4) <- c("Tax","Counts","RA","SampleID")
write.csv(Tax_table_RAz4, file = "Z4_16S_Tax_summ.csv")      # Taxa summary file

library(ggplot2)
plot_z1 <- read_delim("Z1_16S_Tax_summ.csv", ",", escape_double = FALSE, col_names = TRUE, trim_ws = TRUE)
plot1 <- ggplot(plot_z1, aes(x = SampleID, y = Counts, fill = Tax,)) + geom_bar(aes(), stat="identity", position="stack") 
#-----------------------------------------------------
plot_z2 <- read_delim("Z2_16S_Tax_summ.csv", ",", escape_double = FALSE, col_names = TRUE, trim_ws = TRUE)
plot2 <- ggplot(plot_z2, aes(x = SampleID, y = Counts, fill = Tax,)) + geom_bar(aes(), stat="identity", position="stack")
#-----------------------------------------------------
plot_z3 <- read_delim("Z3_16S_Tax_summ.csv", ",", escape_double = FALSE, col_names = TRUE, trim_ws = TRUE)
plot3 <- ggplot(plot_z3, aes(x = SampleID, y = Counts, fill = Tax,)) + geom_bar(aes(), stat="identity", position="stack")
#-----------------------------------------------------
plot_z4<- read_delim("Z4_16S_Tax_summ.csv", ",", escape_double = FALSE, col_names = TRUE, trim_ws = TRUE)
plot1 <- ggplot(plot_z1, aes(x = SampleID, y = Counts, fill = Tax,)) + geom_bar(aes(), stat="identity", position="stack")
#-----------------------------------------------------
plot_zF<- read_delim("allF.csv", ",", escape_double = FALSE, col_names = TRUE, trim_ws = TRUE)
plotF <- ggplot(plot_zF, aes(x = SampleID, y = Counts, fill = Tax,)) + geom_bar(aes(), stat="identity", position="stack")

#-------------Z1----------------------------------------
plot1+ scale_fill_distiller(palette = 'Spectral')
plot1+ scale_fill_gradient()
library(viridis)
plot1 + scale_color_viridis(discrete = TRUE)
plot1 + scale_color_gradientn(colours = rainbow(5))
#save plot to working directory
ggsave(plot1,filename="Z1_SILVA.png",height=9,width=12,units="in",dpi=200)

plot2 <- ggplot(plot_z2, aes(x = SampleID, y = Counts, fill = Tax,)) + geom_bar(aes(), stat="identity", position="stack")
#-------------Z2----------------------------------------
plot2+ scale_fill_distiller(palette = 'Spectral')
plot2+ scale_fill_gradient()
library(viridis)
plot2 + scale_color_viridis(discrete = TRUE)
plot2 + scale_color_gradientn(colours = rainbow(5))
#save plot to working directory
ggsave(plot2,filename="Z2_SILVA.png",height=9,width=12,units="in",dpi=200)
#-------------Z3----------------------------------------
plot3+ scale_fill_distiller(palette = 'Spectral')
plot3+ scale_fill_gradient()
library(viridis)
plot3 + scale_color_viridis(discrete = TRUE)
plot3 + scale_color_gradientn(colours = rainbow(5))
#save plot to working directory
ggsave(plot3,filename="Z3_SILVA.png",height=9,width=12,units="in",dpi=200)
#-------------Z4----------------------------------------
plot4+ scale_fill_distiller(palette = 'Spectral')
plot4+ scale_fill_gradient()
library(viridis)
plot4 + scale_color_viridis(discrete = TRUE)
plot4 + scale_color_gradientn(colours = rainbow(5))
#save plot to working directory
ggsave(plot4,filename="Z4_SILVA.png",height=9,width=12,units="in",dpi=200)
#-------------all----------------------------------------
plotF+ scale_fill_distiller(palette = 'Spectral')
plotF+ scale_fill_gradient()
library(viridis)
plotF + scale_color_viridis(discrete = TRUE)
plotF + scale_color_gradientn(colours = rainbow(5))
#save plot to working directory
ggsave(plotF,filename="ZF_SILVA.png",height=9,width=12,units="in",dpi=200)"
   ]
  }
 ],
 "metadata": {
  "kernelspec": {
   "display_name": "Python 3",
   "language": "python",
   "name": "python3"
  },
  "language_info": {
   "codemirror_mode": {
    "name": "ipython",
    "version": 3
   },
   "file_extension": ".py",
   "mimetype": "text/x-python",
   "name": "python",
   "nbconvert_exporter": "python",
   "pygments_lexer": "ipython3",
   "version": "3.8.5"
  }
 },
 "nbformat": 4,
 "nbformat_minor": 4
}

