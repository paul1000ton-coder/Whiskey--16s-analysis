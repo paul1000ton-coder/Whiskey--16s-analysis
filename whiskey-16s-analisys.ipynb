{
 "cells": [
  {
   "cell_type": "markdown",
   "metadata": {},
   "source": [
    "## Filtrado de secuencias 1200-1800pb"
   ]
  },
  {
   "cell_type": "markdown",
   "metadata": {},
   "source": [
    "## verificar si estamos en la carpeta"
   ]
  },
  {
   "cell_type": "code",
   "execution_count": 21,
   "metadata": {},
   "outputs": [
    {
     "name": "stdout",
     "output_type": "stream",
     "text": [
      "2-length_filtz\n",
      "all-barcode\n",
      "barcode1\n",
      "barcode2\n",
      "barcode3\n",
      "barcode4\n",
      "porechop\n"
     ]
    }
   ],
   "source": [
    "%%bash\n",
    "cd 3_Days_5_Days_Bacteria_Raw_Fastq/\n",
    "ls\n",
    "awk 'BEGIN {OFS = \"\\n\"} {header = $0 ; getline seq ; getline qheader ; getline qseq ; if (length(seq) >= 1200 && length(seq) <= 1800) {print header, seq, qheader, qseq}}' < porechop/BC01.fastq > 2-length_filtz/Z1_16S_filt.fastq\n",
    "\n"
   ]
  },
  {
   "cell_type": "markdown",
   "metadata": {},
   "source": [
    "## Utilizaremos awk para el filtrado de los reads"
   ]
  },
  {
   "cell_type": "code",
   "execution_count": 26,
   "metadata": {
    "scrolled": true
   },
   "outputs": [
    {
     "name": "stdout",
     "output_type": "stream",
     "text": [
      "7037\n"
     ]
    }
   ],
   "source": [
    "%%bash\n",
    "#ls 3_Days_5_Days_Bacteria_Raw_Fastq/2-length_filtz/\n",
    "awk '{s++}END{print s/4}' 3_Days_5_Days_Bacteria_Raw_Fastq/2-length_filtz/Z1_16S_filt.fastq"
   ]
  },
  {
   "cell_type": "markdown",
   "metadata": {},
   "source": [
    "## MINIMAP"
   ]
  },
  {
   "cell_type": "code",
   "execution_count": 45,
   "metadata": {
    "scrolled": true
   },
   "outputs": [
    {
     "name": "stderr",
     "output_type": "stream",
     "text": [
      "[M::mm_idx_gen::2.691*1.28] collected minimizers\n",
      "[M::mm_idx_gen::3.289*1.59] sorted minimizers\n",
      "[M::main::3.289*1.59] loaded/built the index for 7238 target sequence(s)\n",
      "[M::mm_mapopt_update::3.613*1.54] mid_occ = 26\n",
      "[M::mm_idx_stat] kmer size: 15; skip: 10; is_hpc: 0; #seq: 7238\n",
      "[M::mm_idx_stat::3.819*1.51] distinct minimizers: 18477244 (73.11% are singletons); average occurrences: 1.398; average spacing: 5.354\n",
      "[M::worker_pipeline::12.919*2.53] mapped 7037 sequences\n",
      "[M::main] Version: 2.15-r905\n",
      "[M::main] CMD: minimap2 -cx map-ont -z 70 Bd-16s/mock_db.fasta 3_Days_5_Days_Bacteria_Raw_Fastq/2-length_filtz/Z1_16S_filt.fastq\n",
      "[M::main] Real time: 12.939 sec; CPU: 32.754 sec; Peak RSS: 1.115 GB\n"
     ]
    }
   ],
   "source": [
    "%%bash\n",
    "\n",
    "minimap2 -cx map-ont Bd-16s/mock_db.fasta 3_Days_5_Days_Bacteria_Raw_Fastq/2-length_filtz/Z1_16S_filt.fastq -z 70 > 3_Days_5_Days_Bacteria_Raw_Fastq/3-chimera_filt/Z1_16S_filt_align.paf"
   ]
  },
  {
   "cell_type": "markdown",
   "metadata": {},
   "source": [
    "## YACRD"
   ]
  },
  {
   "cell_type": "code",
   "execution_count": 2,
   "metadata": {},
   "outputs": [],
   "source": [
    "%%bash \n",
    "\n",
    "yacrd chimeric -i 3_Days_5_Days_Bacteria_Raw_Fastq/3-chimera_filt/Z1_16S_filt_align.paf -f 3_Days_5_Days_Bacteria_Raw_Fastq/2-length_filtz/Z1_16S_filt.fastq > 3_Days_5_Days_Bacteria_Raw_Fastq/3-chimera_filt/Z1_16S_filt.yacrd"
   ]
  },
  {
   "cell_type": "code",
   "execution_count": null,
   "metadata": {},
   "outputs": [],
   "source": []
  }
 ],
 "metadata": {
  "kernelspec": {
   "display_name": "Python 3",
   "language": "python",
   "name": "python3"
  },
  "language_info": {
   "codemirror_mode": {
    "name": "ipython",
    "version": 3
   },
   "file_extension": ".py",
   "mimetype": "text/x-python",
   "name": "python",
   "nbconvert_exporter": "python",
   "pygments_lexer": "ipython3",
   "version": "3.8.5"
  }
 },
 "nbformat": 4,
 "nbformat_minor": 4
}
